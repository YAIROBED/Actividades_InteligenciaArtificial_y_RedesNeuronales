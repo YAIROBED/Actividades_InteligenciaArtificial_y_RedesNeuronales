{
  "nbformat": 4,
  "nbformat_minor": 0,
  "metadata": {
    "colab": {
      "name": "IA_Ejercicio1_YairMorales_1992266.ipynb",
      "provenance": [],
      "collapsed_sections": []
    },
    "kernelspec": {
      "name": "python3",
      "display_name": "Python 3"
    },
    "language_info": {
      "name": "python"
    }
  },
  "cells": [
    {
      "cell_type": "markdown",
      "source": [
        "**A2: EJERCICIOS BÁSICOS EN PYTHON- YAIR OBED MORALES ORTIZ- 1992266- JUEVES N1-N3**"
      ],
      "metadata": {
        "id": "RteAkF5vigXp"
      }
    },
    {
      "cell_type": "code",
      "source": [
        "#1. Escribe un programa que le pida al usuario por su nombre y que lo salude con su nombre, excepto si se llama “Ana”, “Juan”, y “Pedro”.\n",
        "#Para este programa utilizaré la función condicional if else\n",
        "print(\"ingresa tu nombre: \")                                    #El usuario pondrá su nombre y se guardará en la constante name\n",
        "name = input()                                                                                                         \n",
        "c=\"Error no puede ser saludado\"                                 #c marca el error\n",
        "\n",
        "if name == \"Pedro\":                                             #con if deshabilito los nombres no aceptados\n",
        "  print(c)\n",
        "elif name == \"Juan\":\n",
        "    print(c)\n",
        "elif name == \"Ana\":\n",
        "      print(c)\n",
        "else:\n",
        "        print(\"Hola\",name)                                           #imprimo el resultado"
      ],
      "metadata": {
        "colab": {
          "base_uri": "https://localhost:8080/"
        },
        "id": "oTaMyzEOP-0R",
        "outputId": "7c49a16f-3845-41a1-c9ea-eb97e2d95aeb"
      },
      "execution_count": null,
      "outputs": [
        {
          "output_type": "stream",
          "name": "stdout",
          "text": [
            "ingresa tu nombre: \n",
            "Yair\n",
            "Hola Yair\n"
          ]
        }
      ]
    },
    {
      "cell_type": "code",
      "source": [
        "#2.Escribe una función que regrese el último elemento de una lista y que revierta el orden de la lista e imprima la lista revertida.\n",
        "mylist=[\"brocoli\", \"potato\", \"carrot\", \"tomato\", \"onion\"]                        #Se crea la lista \n",
        "print(mylist[-1])                                                                #imprime el ultimo elemento\n",
        "mylist.reverse()                                                                 #comando para revertir mi lista\n",
        "print(\"Reversed List\", mylist)                                                   #imprime la lista revertida"
      ],
      "metadata": {
        "colab": {
          "base_uri": "https://localhost:8080/"
        },
        "id": "rNO-9kklROaw",
        "outputId": "feecd2c9-e7e3-4267-c6dc-ff8abf3fb992"
      },
      "execution_count": null,
      "outputs": [
        {
          "output_type": "stream",
          "name": "stdout",
          "text": [
            "onion\n",
            "Reversed List ['onion', 'tomato', 'carrot', 'potato', 'brocoli']\n"
          ]
        }
      ]
    },
    {
      "cell_type": "code",
      "source": [
        "#3.Escribe una función que toma una lista de strings y los imprima línea por línea en un marco rectangular. \n",
        "def print_in_a_frame(words):                                                     #Se crea una función\n",
        "    size = max(len(word) for word in words)                                      #Cuenta el numero de elementos a lo largo de un eje dado\n",
        "    print('*' * (size + 4))                                                      #Se imprimen los *\n",
        "    for word in words:                                                           #Se utiliza la iteración For para imprimir las palabras de mi funcion\n",
        "        print('* {:<{}} *'.format(word, size))                                   #Imprime los *\n",
        "    print('*' * (size + 4))\n",
        "\n",
        "print_in_a_frame([\"por\",\"fin\",\"me\",\"salió\",\"el\",\"marco\"])                        #defino mi lista a imprimir"
      ],
      "metadata": {
        "colab": {
          "base_uri": "https://localhost:8080/"
        },
        "id": "UZOlGkh4goVk",
        "outputId": "2c8d6de9-7833-42a7-bc6e-bc8568606063"
      },
      "execution_count": null,
      "outputs": [
        {
          "output_type": "stream",
          "name": "stdout",
          "text": [
            "*********\n",
            "* por   *\n",
            "* fin   *\n",
            "* me    *\n",
            "* salió *\n",
            "* el    *\n",
            "* marco *\n",
            "*********\n"
          ]
        }
      ]
    },
    {
      "cell_type": "code",
      "source": [
        ""
      ],
      "metadata": {
        "id": "Fx9dESxPV5Yf"
      },
      "execution_count": null,
      "outputs": []
    }
  ]
}